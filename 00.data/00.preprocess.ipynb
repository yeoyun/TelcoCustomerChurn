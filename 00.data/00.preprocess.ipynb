{
 "cells": [
  {
   "cell_type": "code",
   "execution_count": 10,
   "id": "79c4f307",
   "metadata": {},
   "outputs": [
    {
     "name": "stdout",
     "output_type": "stream",
     "text": [
      "✅ telco_tableau.csv 저장 완료!\n"
     ]
    }
   ],
   "source": [
    "from modules.preprocess_cols import preprocess_for_tableau\n",
    "import pandas as pd\n",
    "\n",
    "df_raw = pd.read_csv(\"telco.csv\")\n",
    "df_tableau, le = preprocess_for_tableau(df_raw)\n",
    "df_tableau.to_csv(\"telco_tableau.csv\", index=False)\n",
    "\n",
    "print(\"✅ telco_tableau.csv 저장 완료!\")"
   ]
  },
  {
   "cell_type": "code",
   "execution_count": 2,
   "id": "26d1297b",
   "metadata": {},
   "outputs": [],
   "source": [
    "import pandas as pd\n",
    "\n",
    "# 단계별 고객 수\n",
    "step_0 = 7043\n",
    "step_1 = 1051\n",
    "step_2 = 1051\n",
    "step_3 = 967\n",
    "step_4 = 403\n",
    "step_5 = 403\n",
    "\n",
    "# Sankey용 데이터 프레임 구성\n",
    "sankey_df = pd.DataFrame({\n",
    "    'Source': [\n",
    "        '1. 전체 고객',\n",
    "        '2. 가입 3개월 이하',\n",
    "        '3. 인터넷 있음',\n",
    "        '4. 보안 없음',\n",
    "        '5. 만족도 낮음 (≤2점)'\n",
    "    ],\n",
    "    'Target': [\n",
    "        '2. 가입 3개월 이하',\n",
    "        '3. 인터넷 있음',\n",
    "        '4. 보안 없음',\n",
    "        '5. 만족도 낮음 (≤2점)',\n",
    "        '6. 최종 이탈'\n",
    "    ],\n",
    "    'Value': [\n",
    "        step_1,\n",
    "        step_2,\n",
    "        step_3,\n",
    "        step_4,\n",
    "        step_5\n",
    "    ]\n",
    "})\n",
    "\n",
    "\n",
    "# CSV 저장\n",
    "sankey_df.to_csv(\"sankey_activation.csv\", index=False)"
   ]
  },
  {
   "cell_type": "code",
   "execution_count": 7,
   "id": "0c6c3e1d",
   "metadata": {},
   "outputs": [
    {
     "name": "stdout",
     "output_type": "stream",
     "text": [
      "✅ 저장 완료: sankey_joincohort_halfyear.csv\n"
     ]
    }
   ],
   "source": [
    "import pandas as pd\n",
    "\n",
    "# 1. 데이터 불러오기\n",
    "df = pd.read_csv(\"telco.csv\")\n",
    "\n",
    "# 2. 가입 시점 추정\n",
    "df['EstimatedJoinMonth'] = pd.to_datetime(\"2023-01-01\") - pd.to_timedelta(df['Tenure in Months'] * 30, unit='D')\n",
    "df['JoinCohort'] = df['EstimatedJoinMonth'].dt.to_period('M').dt.to_timestamp()\n",
    "\n",
    "# 3. 상/하반기 Cohort 그룹 만들기\n",
    "def get_half_year_label(date):\n",
    "    year = date.year\n",
    "    if date.month <= 6:\n",
    "        return f\"{year} 상반기 가입자\"\n",
    "    else:\n",
    "        return f\"{year} 하반기 가입자\"\n",
    "\n",
    "df['CohortGroup'] = df['JoinCohort'].apply(get_half_year_label)\n",
    "\n",
    "# 4. Sankey용 구조 생성\n",
    "df_sankey = df.groupby(['CohortGroup', 'Churn Label']).agg(\n",
    "    value=('Customer ID', 'count')\n",
    ").reset_index()\n",
    "\n",
    "# 5. 컬럼명 정리\n",
    "df_sankey.columns = ['source', 'target', 'value']\n",
    "\n",
    "# 6. 저장\n",
    "df_sankey.to_csv(\"sankey_joincohort_halfyear.csv\", index=False)\n",
    "print(\"✅ 저장 완료: sankey_joincohort_halfyear.csv\")\n"
   ]
  },
  {
   "cell_type": "code",
   "execution_count": 8,
   "id": "60b84585",
   "metadata": {},
   "outputs": [],
   "source": [
    "from lifelines import KaplanMeierFitter\n",
    "import pandas as pd\n",
    "\n",
    "df['ChurnBinary'] = df['Churn Label'].map({'Yes': 1, 'No': 0})\n",
    "\n",
    "T = df['Tenure in Months']\n",
    "E = df['ChurnBinary']\n",
    "\n",
    "kmf = KaplanMeierFitter()\n",
    "kmf.fit(durations=T, event_observed=E, label='전체 고객')\n",
    "\n",
    "# 생존 곡선 추출 (월 단위)\n",
    "survival_df = kmf.survival_function_.reset_index()\n",
    "survival_df.columns = ['TenureMonth', 'SurvivalProbability']\n",
    "survival_df['Cohort'] = '전체 고객'\n",
    "\n",
    "# 저장\n",
    "survival_df.to_csv(\"retention_curve_monthly.csv\", index=False)\n"
   ]
  },
  {
   "cell_type": "code",
   "execution_count": 9,
   "id": "7bc96225",
   "metadata": {},
   "outputs": [
    {
     "name": "stderr",
     "output_type": "stream",
     "text": [
      "C:\\Users\\somee\\AppData\\Local\\Temp\\ipykernel_27460\\4273383160.py:16: FutureWarning: The default of observed=False is deprecated and will be changed to True in a future version of pandas. Pass observed=False to retain current behavior or observed=True to adopt the future default and silence this warning.\n",
      "  summary_df = survival_df.groupby('TenureQuarter').agg(\n"
     ]
    }
   ],
   "source": [
    "# 위에서 만든 survival_df 사용\n",
    "import numpy as np\n",
    "\n",
    "# 분기 단위 구간 설정\n",
    "survival_df['TenureQuarter'] = pd.cut(\n",
    "    survival_df['TenureMonth'],\n",
    "    bins=[0, 3, 6, 9, 12, 15, 18, 21, 24, 36, 48, 60, 72],\n",
    "    labels=[\n",
    "        '0~3개월', '4~6개월', '7~9개월', '10~12개월', '13~15개월', '16~18개월',\n",
    "        '19~21개월', '22~24개월', '25~36개월', '37~48개월', '49~60개월', '61개월+'\n",
    "    ],\n",
    "    right=False\n",
    ")\n",
    "\n",
    "# 각 구간별 평균 잔존율 계산\n",
    "summary_df = survival_df.groupby('TenureQuarter').agg(\n",
    "    SurvivalProbability=('SurvivalProbability', 'mean')\n",
    ").reset_index()\n",
    "\n",
    "summary_df.to_csv(\"retention_curve_summary.csv\", index=False)\n"
   ]
  }
 ],
 "metadata": {
  "kernelspec": {
   "display_name": "base",
   "language": "python",
   "name": "python3"
  },
  "language_info": {
   "codemirror_mode": {
    "name": "ipython",
    "version": 3
   },
   "file_extension": ".py",
   "mimetype": "text/x-python",
   "name": "python",
   "nbconvert_exporter": "python",
   "pygments_lexer": "ipython3",
   "version": "3.12.3"
  }
 },
 "nbformat": 4,
 "nbformat_minor": 5
}
